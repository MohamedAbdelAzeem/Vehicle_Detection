{
  "cells": [
    {
      "cell_type": "markdown",
      "metadata": {
        "id": "view-in-github",
        "colab_type": "text"
      },
      "source": [
        "<a href=\"https://colab.research.google.com/github/MohamedAbdelAzeem/Vehicle_Detection/blob/main/phase_2.ipynb\" target=\"_parent\"><img src=\"https://colab.research.google.com/assets/colab-badge.svg\" alt=\"Open In Colab\"/></a>"
      ]
    },
    {
      "cell_type": "code",
      "execution_count": null,
      "id": "2c73edd4",
      "metadata": {
        "id": "2c73edd4"
      },
      "outputs": [],
      "source": [
        "import numpy as np\n",
        "import time\n",
        "import cv2\n",
        "import os\n",
        "import glob\n",
        "import matplotlib.pyplot as plt\n",
        "from moviepy.editor import *"
      ]
    },
    {
      "cell_type": "markdown",
      "id": "c5d1608d",
      "metadata": {
        "id": "c5d1608d"
      },
      "source": [
        "### Load Weights and CFG"
      ]
    },
    {
      "cell_type": "code",
      "execution_count": null,
      "id": "81afbcfb",
      "metadata": {
        "id": "81afbcfb",
        "outputId": "6745dc58-bf50-402f-9e8f-b193b75983b4"
      },
      "outputs": [
        {
          "name": "stdout",
          "output_type": "stream",
          "text": [
            "['person', 'bicycle', 'car', 'motorbike', 'aeroplane', 'bus', 'train', 'truck', 'boat', 'traffic light', 'fire hydrant', 'stop sign', 'parking meter', 'bench', 'bird', 'cat', 'dog', 'horse', 'sheep', 'cow', 'elephant', 'bear', 'zebra', 'giraffe', 'backpack', 'umbrella', 'handbag', 'tie', 'suitcase', 'frisbee', 'skis', 'snowboard', 'sports ball', 'kite', 'baseball bat', 'baseball glove', 'skateboard', 'surfboard', 'tennis racket', 'bottle', 'wine glass', 'cup', 'fork', 'knife', 'spoon', 'bowl', 'banana', 'apple', 'sandwich', 'orange', 'broccoli', 'carrot', 'hot dog', 'pizza', 'donut', 'cake', 'chair', 'sofa', 'pottedplant', 'bed', 'diningtable', 'toilet', 'tvmonitor', 'laptop', 'mouse', 'remote', 'keyboard', 'cell phone', 'microwave', 'oven', 'toaster', 'sink', 'refrigerator', 'book', 'clock', 'vase', 'scissors', 'teddy bear', 'hair drier', 'toothbrush']\n"
          ]
        }
      ],
      "source": [
        "#weights_path = os.path.join(\"yolo\",\"C:\\\\Users\\\\THE WHALE\\\\Vechile_Detection_YOLO_GPU\\\\yolov3.weights\")\n",
        "#cfg_path = os.path.join(\"yolo\",\"C:\\\\Users\\\\THE WHALE\\\\Vechile_Detection_YOLO_GPU\\\\yolov3.cfg\")\n",
        "labels = open('coco.names').read().strip().split('\\n')     #Load COCO Dataset\n",
        "print(labels)"
      ]
    },
    {
      "cell_type": "markdown",
      "id": "d265ea69",
      "metadata": {
        "id": "d265ea69"
      },
      "source": [
        "### Load Neural Netowrk"
      ]
    },
    {
      "cell_type": "code",
      "execution_count": null,
      "id": "ff1b0ef9",
      "metadata": {
        "id": "ff1b0ef9"
      },
      "outputs": [],
      "source": [
        "import cv2\n",
        "net = cv2.dnn.readNetFromDarknet('yolov3.cfg','yolov3.weights')"
      ]
    },
    {
      "cell_type": "code",
      "execution_count": null,
      "id": "3f175e58",
      "metadata": {
        "id": "3f175e58",
        "outputId": "d5604994-0cd5-4590-973f-8135f6e86120"
      },
      "outputs": [
        {
          "name": "stdout",
          "output_type": "stream",
          "text": [
            "['yolo_82', 'yolo_94', 'yolo_106']\n"
          ]
        }
      ],
      "source": [
        "##Getting Layer Names and Output Layers\n",
        "names = net.getLayerNames()\n",
        "outputlayers = list(net.getUnconnectedOutLayersNames())  \n",
        "print(outputlayers)"
      ]
    },
    {
      "cell_type": "markdown",
      "id": "39b21dd3",
      "metadata": {
        "id": "39b21dd3"
      },
      "source": [
        "### Inference"
      ]
    },
    {
      "cell_type": "code",
      "execution_count": null,
      "id": "646c4acb",
      "metadata": {
        "id": "646c4acb"
      },
      "outputs": [],
      "source": [
        "def process(image):\n",
        "    boxes = []\n",
        "    confidences = []\n",
        "    classIDs = []\n",
        "\n",
        "    H,W = image.shape[:2]   #height and width of the image\n",
        "    blob = cv2.dnn.blobFromImage(image,1/255.0,(416,416),crop=False,swapRB=False)  #preprocessing the image\n",
        "    net.setInput(blob)  #input the image to the network\n",
        "    layers_output = net.forward(outputlayers)\n",
        "    for output in layers_output:\n",
        "      for detection in output:\n",
        "          scores = detection[5:]\n",
        "          classID = np.argmax(scores)   #getting ID of the class that has maximum score\n",
        "          confidence = scores[classID]\n",
        "          if confidence > 0.75: \n",
        "              box = detection[:4] * np.array([W,H,W,H])    #Getting center,width and height of the box\n",
        "               bx,by,bw,bh = box.astype(\"int\")\n",
        "                x = int(bx-(bw/2))\n",
        "                y = int(by-(bh/2))\n",
        "                \n",
        "                boxes.append([x,y,int(bw),int(bh)])\n",
        "                confidences.append(float(confidence))\n",
        "                classIDs.append(classID)\n",
        "    indexes = cv2.dnn.NMSBoxes(boxes,confidences,0.75,0.6)  #Filtering boxes using non maximum suppression\n",
        "    if len(indexes) > 0:\n",
        "        for i in indexes.flatten():\n",
        "            x,y = [boxes[i][0],boxes[i][1]]         # top left corner point \n",
        "            w,h = [boxes[i][2],boxes[i][3]]         #width and height of the box\n",
        "            cv2.rectangle(image,(x,y),(x+w,y+h),(0,139,139),2)\n",
        "            cv2.putText(image,\"{}:{}\".format(labels[classIDs[i]],confidences[i]),(x,y-5),cv2.FONT_HERSHEY_SIMPLEX,0.5,(0,139,139),2)\n",
        "    return image\n"
      ]
    },
    {
      "cell_type": "code",
      "execution_count": null,
      "id": "8e451af4",
      "metadata": {
        "id": "8e451af4",
        "outputId": "b5785ad2-f944-4ba8-be76-ecab78bfea7a"
      },
      "outputs": [
        {
          "name": "stdout",
          "output_type": "stream",
          "text": [
            "Moviepy - Building video results\\output_project_video.mp4.\n",
            "Moviepy - Writing video results\\output_project_video.mp4\n",
            "\n"
          ]
        },
        {
          "name": "stderr",
          "output_type": "stream",
          "text": [
            "                                                              \r"
          ]
        },
        {
          "name": "stdout",
          "output_type": "stream",
          "text": [
            "Moviepy - Done !\n",
            "Moviepy - video ready results\\output_project_video.mp4\n",
            "Wall time: 3min 50s\n"
          ]
        }
      ],
      "source": [
        "clip = VideoFileClip(\"project_video.mp4\")\n",
        "start = time.time()\n",
        "final = clip.fl_image(process).subclip(0,30)\n",
        "%time final.write_videofile(\"results\\output_project_video.mp4\", audio=False)"
      ]
    },
    {
      "cell_type": "code",
      "execution_count": null,
      "id": "32bc8363",
      "metadata": {
        "id": "32bc8363"
      },
      "outputs": [],
      "source": [
        ""
      ]
    },
    {
      "cell_type": "code",
      "execution_count": null,
      "id": "fbe1ab8d",
      "metadata": {
        "id": "fbe1ab8d"
      },
      "outputs": [],
      "source": [
        ""
      ]
    }
  ],
  "metadata": {
    "kernelspec": {
      "display_name": "Python 3",
      "language": "python",
      "name": "python3"
    },
    "language_info": {
      "codemirror_mode": {
        "name": "ipython",
        "version": 3
      },
      "file_extension": ".py",
      "mimetype": "text/x-python",
      "name": "python",
      "nbconvert_exporter": "python",
      "pygments_lexer": "ipython3",
      "version": "3.6.13"
    },
    "colab": {
      "name": "phase_2.ipynb",
      "provenance": [],
      "collapsed_sections": [],
      "include_colab_link": true
    }
  },
  "nbformat": 4,
  "nbformat_minor": 5
}